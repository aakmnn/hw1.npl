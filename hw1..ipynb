{
 "cells": [
  {
   "cell_type": "code",
   "execution_count": null,
   "id": "601781b9",
   "metadata": {},
   "outputs": [],
   "source": [
    "\n",
    "import pandas as pd\n",
    "import numpy as np\n",
    "import matplotlib.pyplot as plt\n",
    "import seaborn as sns\n",
    "\n",
    "from sklearn.model_selection import train_test_split\n",
    "from sklearn.preprocessing import LabelEncoder, StandardScaler\n",
    "from sklearn.linear_model import LogisticRegression\n",
    "from sklearn.metrics import accuracy_score, confusion_matrix, classification_report\n"
   ]
  },
  {
   "cell_type": "code",
   "execution_count": null,
   "id": "84a7611f",
   "metadata": {},
   "outputs": [],
   "source": [
    "\n",
    "# Загружаем датасет\n",
    "df = pd.read_csv(\"Social_Network_Ads.csv\")\n",
    "df.head()\n"
   ]
  },
  {
   "cell_type": "code",
   "execution_count": null,
   "id": "f31d03ad",
   "metadata": {},
   "outputs": [],
   "source": [
    "\n",
    "# Общая информация и описание\n",
    "print(df.info())\n",
    "print(df.describe())\n",
    "print(df['Gender'].value_counts())\n",
    "print(df['Purchased'].value_counts())\n"
   ]
  },
  {
   "cell_type": "code",
   "execution_count": null,
   "id": "ffcb88f7",
   "metadata": {},
   "outputs": [],
   "source": [
    "\n",
    "# Распределение возраста и зарплаты\n",
    "plt.figure(figsize=(12,5))\n",
    "plt.subplot(1,2,1)\n",
    "sns.histplot(df['Age'], bins=20, kde=True)\n",
    "plt.title(\"Age Distribution\")\n",
    "\n",
    "plt.subplot(1,2,2)\n",
    "sns.histplot(df['EstimatedSalary'], bins=20, kde=True)\n",
    "plt.title(\"Salary Distribution\")\n",
    "plt.show()\n",
    "\n",
    "# Покупки по полу\n",
    "sns.countplot(x=\"Gender\", hue=\"Purchased\", data=df)\n",
    "plt.title(\"Gender vs Purchased\")\n",
    "plt.show()\n"
   ]
  },
  {
   "cell_type": "code",
   "execution_count": null,
   "id": "b9a64ffe",
   "metadata": {},
   "outputs": [],
   "source": [
    "\n",
    "# Удаляем ненужный столбец User ID\n",
    "df = df.drop(\"User ID\", axis=1)\n",
    "\n",
    "# Кодируем пол\n",
    "le = LabelEncoder()\n",
    "df['Gender'] = le.fit_transform(df['Gender'])\n",
    "\n",
    "# Разделяем на признаки и цель\n",
    "X = df.drop(\"Purchased\", axis=1)\n",
    "y = df[\"Purchased\"]\n",
    "\n",
    "# Масштабирование\n",
    "scaler = StandardScaler()\n",
    "X_scaled = scaler.fit_transform(X)\n",
    "\n",
    "# Train/test split\n",
    "X_train, X_test, y_train, y_test = train_test_split(X_scaled, y, test_size=0.2, random_state=42)\n"
   ]
  },
  {
   "cell_type": "code",
   "execution_count": null,
   "id": "0f5f4632",
   "metadata": {},
   "outputs": [],
   "source": [
    "\n",
    "model = LogisticRegression()\n",
    "model.fit(X_train, y_train)\n",
    "\n",
    "y_pred = model.predict(X_test)\n",
    "\n",
    "print(\"Accuracy:\", accuracy_score(y_test, y_pred))\n",
    "print(\"Confusion Matrix:\\n\", confusion_matrix(y_test, y_pred))\n",
    "print(\"Classification Report:\\n\", classification_report(y_test, y_pred))\n"
   ]
  },
  {
   "cell_type": "code",
   "execution_count": null,
   "id": "101345fe",
   "metadata": {},
   "outputs": [],
   "source": [
    "\n",
    "# Визуализация матрицы ошибок\n",
    "cm = confusion_matrix(y_test, y_pred)\n",
    "sns.heatmap(cm, annot=True, fmt=\"d\", cmap=\"Blues\", xticklabels=[0,1], yticklabels=[0,1])\n",
    "plt.xlabel(\"Predicted\")\n",
    "plt.ylabel(\"Actual\")\n",
    "plt.title(\"Confusion Matrix\")\n",
    "plt.show()\n"
   ]
  }
 ],
 "metadata": {},
 "nbformat": 4,
 "nbformat_minor": 5
}
